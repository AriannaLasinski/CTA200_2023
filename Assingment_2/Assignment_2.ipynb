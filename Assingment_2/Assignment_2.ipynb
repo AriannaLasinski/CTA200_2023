{
 "cells": [
  {
   "cell_type": "code",
   "execution_count": 6,
   "id": "4314810b",
   "metadata": {},
   "outputs": [],
   "source": [
    "import sympy as sp\n",
    "import numpy as np"
   ]
  },
  {
   "cell_type": "code",
   "execution_count": 5,
   "id": "61fba9a6",
   "metadata": {},
   "outputs": [],
   "source": []
  },
  {
   "cell_type": "markdown",
   "id": "675ab652",
   "metadata": {},
   "source": [
    "#Part 1"
   ]
  },
  {
   "cell_type": "code",
   "execution_count": 8,
   "id": "974d51c7",
   "metadata": {},
   "outputs": [],
   "source": [
    "# define the function f and its derivative df\n",
    "# define the function f and its derivative df\n",
    "x = sp.Symbol('x')\n",
    "f_expr = x**3 - x**2 - 1\n",
    "f_func = sp.lambdify(x, f_expr)\n",
    "\n",
    "df_expr = sp.diff(f_expr, x)\n",
    "df_func = sp.lambdify(x, df_expr)\n",
    "\n",
    "def f(x):\n",
    "    return f_func(x)\n",
    "\n",
    "def df(x):\n",
    "    return df_func(x)"
   ]
  },
  {
   "cell_type": "markdown",
   "id": "8b82e1c8",
   "metadata": {},
   "source": [
    "#Part 2"
   ]
  },
  {
   "cell_type": "code",
   "execution_count": 9,
   "id": "4f3d03ad",
   "metadata": {},
   "outputs": [],
   "source": [
    "def newton(f, df, x0, epsilon=1e-6, max_iter=30):\n",
    "    \"\"\"\n",
    "    Compute the root of the function f using a Newton Iteration.\n",
    "\n",
    "    Parameters\n",
    "    ----------\n",
    "    f : function\n",
    "        The function to compute the root of.\n",
    "    df : function\n",
    "        The derivative of the function f.\n",
    "    x0 : float\n",
    "        The initial guess for the root.\n",
    "    epsilon : float, optional\n",
    "        The tolerance for the root. Default is 1e-6.\n",
    "    max_iter : int, optional\n",
    "        The maximum number of iterations to perform. Default is 30.\n",
    "\n",
    "    Returns\n",
    "    -------\n",
    "    float or None\n",
    "        The root of the function f if found within epsilon tolerance, else None.\n",
    "    \"\"\"\n",
    "\n",
    "    for i in range(max_iter):\n",
    "        f_val = f(x0)\n",
    "        df_val = df(x0)\n",
    "        if abs(f_val) < epsilon:\n",
    "            print(f\"Found root in {i} iterations\")\n",
    "            return x0\n",
    "        elif df_val == 0:\n",
    "            print(\"Iteration failed\")\n",
    "            return None\n",
    "        x0 = x0 - f_val / df_val\n",
    "\n",
    "    print(\"Iteration failed\")\n",
    "    return None\n"
   ]
  },
  {
   "cell_type": "markdown",
   "id": "c47cc346",
   "metadata": {},
   "source": [
    "#Part 3"
   ]
  },
  {
   "cell_type": "code",
   "execution_count": 10,
   "id": "4e760ea3",
   "metadata": {},
   "outputs": [
    {
     "name": "stdout",
     "output_type": "stream",
     "text": [
      "Found root in 3 iterations\n",
      "1.4655712318780663\n"
     ]
    }
   ],
   "source": [
    "# compute the root of f using the newton function\n",
    "root = newton(f, df, x0=1.5)\n",
    "print(root)  # output: 1.4655712318767687"
   ]
  },
  {
   "cell_type": "code",
   "execution_count": 11,
   "id": "ac7c12c1",
   "metadata": {},
   "outputs": [
    {
     "name": "stdout",
     "output_type": "stream",
     "text": [
      "Found root in 5 iterations\n",
      "Found root in 4 iterations\n",
      "Root found with x0=1.0: 1.4655713749070918\n",
      "Root found with x0=2.0: 1.4655713749070918\n"
     ]
    }
   ],
   "source": [
    "# define initial guesses\n",
    "x0_1 = 1.0\n",
    "x0_2 = 2.0\n",
    "\n",
    "# compute roots using the newton function\n",
    "root_1 = newton(f, df, x0_1)\n",
    "root_2 = newton(f, df, x0_2)\n",
    "\n",
    "# print results\n",
    "print(f\"Root found with x0={x0_1}: {root_1}\")  # output: 1.4655712318767687\n",
    "print(f\"Root found with x0={x0_2}: {root_2}\")  # output: None\n"
   ]
  },
  {
   "cell_type": "code",
   "execution_count": 14,
   "id": "0d989fd0",
   "metadata": {},
   "outputs": [
    {
     "name": "stdout",
     "output_type": "stream",
     "text": [
      "Found root in 6 iterations\n",
      "Root found with epsilon=1e-8: 1.4655712318767877\n"
     ]
    }
   ],
   "source": [
    "# define initial guess\n",
    "x0 = 1.0\n",
    "\n",
    "# compute root with a smaller epsilon of 1e-8\n",
    "root = newton(f, df, x0, epsilon=1e-8)\n",
    "\n",
    "# print result\n",
    "print(f\"Root found with epsilon=1e-8: {root}\")\n"
   ]
  }
 ],
 "metadata": {
  "kernelspec": {
   "display_name": "Python 3 (ipykernel)",
   "language": "python",
   "name": "python3"
  },
  "language_info": {
   "codemirror_mode": {
    "name": "ipython",
    "version": 3
   },
   "file_extension": ".py",
   "mimetype": "text/x-python",
   "name": "python",
   "nbconvert_exporter": "python",
   "pygments_lexer": "ipython3",
   "version": "3.9.12"
  }
 },
 "nbformat": 4,
 "nbformat_minor": 5
}
